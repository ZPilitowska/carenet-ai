{
 "cells": [
  {
   "cell_type": "code",
   "execution_count": 4,
   "id": "e74fa1cf",
   "metadata": {},
   "outputs": [
    {
     "name": "stdout",
     "output_type": "stream",
     "text": [
      "Requirement already satisfied: google-adk in c:\\users\\zosia\\appdata\\local\\anaconda3\\envs\\carenet-ai-env\\lib\\site-packages (1.1.1)\n",
      "Requirement already satisfied: authlib>=1.5.1 in c:\\users\\zosia\\appdata\\local\\anaconda3\\envs\\carenet-ai-env\\lib\\site-packages (from google-adk) (1.6.0)\n",
      "Requirement already satisfied: click>=8.1.8 in c:\\users\\zosia\\appdata\\local\\anaconda3\\envs\\carenet-ai-env\\lib\\site-packages (from google-adk) (8.2.1)\n",
      "Requirement already satisfied: fastapi>=0.115.0 in c:\\users\\zosia\\appdata\\local\\anaconda3\\envs\\carenet-ai-env\\lib\\site-packages (from google-adk) (0.115.12)\n",
      "Requirement already satisfied: google-api-python-client>=2.157.0 in c:\\users\\zosia\\appdata\\local\\anaconda3\\envs\\carenet-ai-env\\lib\\site-packages (from google-adk) (2.170.0)\n",
      "Requirement already satisfied: google-cloud-aiplatform>=1.87.0 in c:\\users\\zosia\\appdata\\local\\anaconda3\\envs\\carenet-ai-env\\lib\\site-packages (from google-adk) (1.95.0)\n",
      "Requirement already satisfied: google-cloud-secret-manager>=2.22.0 in c:\\users\\zosia\\appdata\\local\\anaconda3\\envs\\carenet-ai-env\\lib\\site-packages (from google-adk) (2.23.3)\n",
      "Requirement already satisfied: google-cloud-speech>=2.30.0 in c:\\users\\zosia\\appdata\\local\\anaconda3\\envs\\carenet-ai-env\\lib\\site-packages (from google-adk) (2.32.0)\n",
      "Requirement already satisfied: google-cloud-storage<3.0.0,>=2.18.0 in c:\\users\\zosia\\appdata\\local\\anaconda3\\envs\\carenet-ai-env\\lib\\site-packages (from google-adk) (2.19.0)\n",
      "Requirement already satisfied: google-genai>=1.14.0 in c:\\users\\zosia\\appdata\\local\\anaconda3\\envs\\carenet-ai-env\\lib\\site-packages (from google-adk) (1.17.0)\n",
      "Requirement already satisfied: graphviz>=0.20.2 in c:\\users\\zosia\\appdata\\local\\anaconda3\\envs\\carenet-ai-env\\lib\\site-packages (from google-adk) (0.20.3)\n",
      "Requirement already satisfied: mcp>=1.5.0 in c:\\users\\zosia\\appdata\\local\\anaconda3\\envs\\carenet-ai-env\\lib\\site-packages (from google-adk) (1.9.2)\n",
      "Requirement already satisfied: opentelemetry-api>=1.31.0 in c:\\users\\zosia\\appdata\\local\\anaconda3\\envs\\carenet-ai-env\\lib\\site-packages (from google-adk) (1.33.1)\n",
      "Requirement already satisfied: opentelemetry-exporter-gcp-trace>=1.9.0 in c:\\users\\zosia\\appdata\\local\\anaconda3\\envs\\carenet-ai-env\\lib\\site-packages (from google-adk) (1.9.0)\n",
      "Requirement already satisfied: opentelemetry-sdk>=1.31.0 in c:\\users\\zosia\\appdata\\local\\anaconda3\\envs\\carenet-ai-env\\lib\\site-packages (from google-adk) (1.33.1)\n",
      "Requirement already satisfied: pydantic<3.0.0,>=2.0 in c:\\users\\zosia\\appdata\\local\\anaconda3\\envs\\carenet-ai-env\\lib\\site-packages (from google-adk) (2.11.5)\n",
      "Requirement already satisfied: python-dotenv>=1.0.0 in c:\\users\\zosia\\appdata\\local\\anaconda3\\envs\\carenet-ai-env\\lib\\site-packages (from google-adk) (1.1.0)\n",
      "Requirement already satisfied: PyYAML>=6.0.2 in c:\\users\\zosia\\appdata\\local\\anaconda3\\envs\\carenet-ai-env\\lib\\site-packages (from google-adk) (6.0.2)\n",
      "Requirement already satisfied: sqlalchemy>=2.0 in c:\\users\\zosia\\appdata\\local\\anaconda3\\envs\\carenet-ai-env\\lib\\site-packages (from google-adk) (2.0.41)\n",
      "Requirement already satisfied: tzlocal>=5.3 in c:\\users\\zosia\\appdata\\local\\anaconda3\\envs\\carenet-ai-env\\lib\\site-packages (from google-adk) (5.3.1)\n",
      "Requirement already satisfied: uvicorn>=0.34.0 in c:\\users\\zosia\\appdata\\local\\anaconda3\\envs\\carenet-ai-env\\lib\\site-packages (from google-adk) (0.34.2)\n",
      "Requirement already satisfied: google-auth<3.0dev,>=2.26.1 in c:\\users\\zosia\\appdata\\local\\anaconda3\\envs\\carenet-ai-env\\lib\\site-packages (from google-cloud-storage<3.0.0,>=2.18.0->google-adk) (2.40.2)\n",
      "Requirement already satisfied: google-api-core<3.0.0dev,>=2.15.0 in c:\\users\\zosia\\appdata\\local\\anaconda3\\envs\\carenet-ai-env\\lib\\site-packages (from google-cloud-storage<3.0.0,>=2.18.0->google-adk) (2.25.0rc1)\n",
      "Requirement already satisfied: google-cloud-core<3.0dev,>=2.3.0 in c:\\users\\zosia\\appdata\\local\\anaconda3\\envs\\carenet-ai-env\\lib\\site-packages (from google-cloud-storage<3.0.0,>=2.18.0->google-adk) (2.4.3)\n",
      "Requirement already satisfied: google-resumable-media>=2.7.2 in c:\\users\\zosia\\appdata\\local\\anaconda3\\envs\\carenet-ai-env\\lib\\site-packages (from google-cloud-storage<3.0.0,>=2.18.0->google-adk) (2.7.2)\n",
      "Requirement already satisfied: requests<3.0.0dev,>=2.18.0 in c:\\users\\zosia\\appdata\\local\\anaconda3\\envs\\carenet-ai-env\\lib\\site-packages (from google-cloud-storage<3.0.0,>=2.18.0->google-adk) (2.32.3)\n",
      "Requirement already satisfied: google-crc32c<2.0dev,>=1.0 in c:\\users\\zosia\\appdata\\local\\anaconda3\\envs\\carenet-ai-env\\lib\\site-packages (from google-cloud-storage<3.0.0,>=2.18.0->google-adk) (1.7.1)\n",
      "Requirement already satisfied: googleapis-common-protos<2.0.0,>=1.56.2 in c:\\users\\zosia\\appdata\\local\\anaconda3\\envs\\carenet-ai-env\\lib\\site-packages (from google-api-core<3.0.0dev,>=2.15.0->google-cloud-storage<3.0.0,>=2.18.0->google-adk) (1.70.0)\n",
      "Requirement already satisfied: protobuf!=3.20.0,!=3.20.1,!=4.21.0,!=4.21.1,!=4.21.2,!=4.21.3,!=4.21.4,!=4.21.5,<7.0.0,>=3.19.5 in c:\\users\\zosia\\appdata\\local\\anaconda3\\envs\\carenet-ai-env\\lib\\site-packages (from google-api-core<3.0.0dev,>=2.15.0->google-cloud-storage<3.0.0,>=2.18.0->google-adk) (5.29.5)\n",
      "Requirement already satisfied: proto-plus<2.0.0,>=1.22.3 in c:\\users\\zosia\\appdata\\local\\anaconda3\\envs\\carenet-ai-env\\lib\\site-packages (from google-api-core<3.0.0dev,>=2.15.0->google-cloud-storage<3.0.0,>=2.18.0->google-adk) (1.26.1)\n",
      "Requirement already satisfied: cachetools<6.0,>=2.0.0 in c:\\users\\zosia\\appdata\\local\\anaconda3\\envs\\carenet-ai-env\\lib\\site-packages (from google-auth<3.0dev,>=2.26.1->google-cloud-storage<3.0.0,>=2.18.0->google-adk) (5.5.2)\n",
      "Requirement already satisfied: pyasn1-modules>=0.2.1 in c:\\users\\zosia\\appdata\\local\\anaconda3\\envs\\carenet-ai-env\\lib\\site-packages (from google-auth<3.0dev,>=2.26.1->google-cloud-storage<3.0.0,>=2.18.0->google-adk) (0.4.2)\n",
      "Requirement already satisfied: rsa<5,>=3.1.4 in c:\\users\\zosia\\appdata\\local\\anaconda3\\envs\\carenet-ai-env\\lib\\site-packages (from google-auth<3.0dev,>=2.26.1->google-cloud-storage<3.0.0,>=2.18.0->google-adk) (4.9.1)\n",
      "Requirement already satisfied: annotated-types>=0.6.0 in c:\\users\\zosia\\appdata\\local\\anaconda3\\envs\\carenet-ai-env\\lib\\site-packages (from pydantic<3.0.0,>=2.0->google-adk) (0.7.0)\n",
      "Requirement already satisfied: pydantic-core==2.33.2 in c:\\users\\zosia\\appdata\\local\\anaconda3\\envs\\carenet-ai-env\\lib\\site-packages (from pydantic<3.0.0,>=2.0->google-adk) (2.33.2)\n",
      "Requirement already satisfied: typing-extensions>=4.12.2 in c:\\users\\zosia\\appdata\\local\\anaconda3\\envs\\carenet-ai-env\\lib\\site-packages (from pydantic<3.0.0,>=2.0->google-adk) (4.13.2)\n",
      "Requirement already satisfied: typing-inspection>=0.4.0 in c:\\users\\zosia\\appdata\\local\\anaconda3\\envs\\carenet-ai-env\\lib\\site-packages (from pydantic<3.0.0,>=2.0->google-adk) (0.4.1)\n",
      "Requirement already satisfied: charset-normalizer<4,>=2 in c:\\users\\zosia\\appdata\\local\\anaconda3\\envs\\carenet-ai-env\\lib\\site-packages (from requests<3.0.0dev,>=2.18.0->google-cloud-storage<3.0.0,>=2.18.0->google-adk) (3.4.2)\n",
      "Requirement already satisfied: idna<4,>=2.5 in c:\\users\\zosia\\appdata\\local\\anaconda3\\envs\\carenet-ai-env\\lib\\site-packages (from requests<3.0.0dev,>=2.18.0->google-cloud-storage<3.0.0,>=2.18.0->google-adk) (3.10)\n",
      "Requirement already satisfied: urllib3<3,>=1.21.1 in c:\\users\\zosia\\appdata\\local\\anaconda3\\envs\\carenet-ai-env\\lib\\site-packages (from requests<3.0.0dev,>=2.18.0->google-cloud-storage<3.0.0,>=2.18.0->google-adk) (2.4.0)\n",
      "Requirement already satisfied: certifi>=2017.4.17 in c:\\users\\zosia\\appdata\\local\\anaconda3\\envs\\carenet-ai-env\\lib\\site-packages (from requests<3.0.0dev,>=2.18.0->google-cloud-storage<3.0.0,>=2.18.0->google-adk) (2025.4.26)\n",
      "Requirement already satisfied: pyasn1>=0.1.3 in c:\\users\\zosia\\appdata\\local\\anaconda3\\envs\\carenet-ai-env\\lib\\site-packages (from rsa<5,>=3.1.4->google-auth<3.0dev,>=2.26.1->google-cloud-storage<3.0.0,>=2.18.0->google-adk) (0.6.1)\n",
      "Requirement already satisfied: cryptography in c:\\users\\zosia\\appdata\\local\\anaconda3\\envs\\carenet-ai-env\\lib\\site-packages (from authlib>=1.5.1->google-adk) (45.0.3)\n",
      "Requirement already satisfied: colorama in c:\\users\\zosia\\appdata\\local\\anaconda3\\envs\\carenet-ai-env\\lib\\site-packages (from click>=8.1.8->google-adk) (0.4.6)\n",
      "Requirement already satisfied: starlette<0.47.0,>=0.40.0 in c:\\users\\zosia\\appdata\\local\\anaconda3\\envs\\carenet-ai-env\\lib\\site-packages (from fastapi>=0.115.0->google-adk) (0.46.2)\n",
      "Requirement already satisfied: anyio<5,>=3.6.2 in c:\\users\\zosia\\appdata\\local\\anaconda3\\envs\\carenet-ai-env\\lib\\site-packages (from starlette<0.47.0,>=0.40.0->fastapi>=0.115.0->google-adk) (4.9.0)\n",
      "Requirement already satisfied: sniffio>=1.1 in c:\\users\\zosia\\appdata\\local\\anaconda3\\envs\\carenet-ai-env\\lib\\site-packages (from anyio<5,>=3.6.2->starlette<0.47.0,>=0.40.0->fastapi>=0.115.0->google-adk) (1.3.1)\n",
      "Requirement already satisfied: httplib2<1.0.0,>=0.19.0 in c:\\users\\zosia\\appdata\\local\\anaconda3\\envs\\carenet-ai-env\\lib\\site-packages (from google-api-python-client>=2.157.0->google-adk) (0.22.0)\n",
      "Requirement already satisfied: google-auth-httplib2<1.0.0,>=0.2.0 in c:\\users\\zosia\\appdata\\local\\anaconda3\\envs\\carenet-ai-env\\lib\\site-packages (from google-api-python-client>=2.157.0->google-adk) (0.2.0)\n",
      "Requirement already satisfied: uritemplate<5,>=3.0.1 in c:\\users\\zosia\\appdata\\local\\anaconda3\\envs\\carenet-ai-env\\lib\\site-packages (from google-api-python-client>=2.157.0->google-adk) (4.1.1)\n",
      "Requirement already satisfied: pyparsing!=3.0.0,!=3.0.1,!=3.0.2,!=3.0.3,<4,>=2.4.2 in c:\\users\\zosia\\appdata\\local\\anaconda3\\envs\\carenet-ai-env\\lib\\site-packages (from httplib2<1.0.0,>=0.19.0->google-api-python-client>=2.157.0->google-adk) (3.2.3)\n",
      "Requirement already satisfied: packaging>=14.3 in c:\\users\\zosia\\appdata\\local\\anaconda3\\envs\\carenet-ai-env\\lib\\site-packages (from google-cloud-aiplatform>=1.87.0->google-adk) (25.0)\n",
      "Requirement already satisfied: google-cloud-bigquery!=3.20.0,<4.0.0,>=1.15.0 in c:\\users\\zosia\\appdata\\local\\anaconda3\\envs\\carenet-ai-env\\lib\\site-packages (from google-cloud-aiplatform>=1.87.0->google-adk) (3.33.0)\n",
      "Requirement already satisfied: google-cloud-resource-manager<3.0.0,>=1.3.3 in c:\\users\\zosia\\appdata\\local\\anaconda3\\envs\\carenet-ai-env\\lib\\site-packages (from google-cloud-aiplatform>=1.87.0->google-adk) (1.14.2)\n",
      "Requirement already satisfied: shapely<3.0.0 in c:\\users\\zosia\\appdata\\local\\anaconda3\\envs\\carenet-ai-env\\lib\\site-packages (from google-cloud-aiplatform>=1.87.0->google-adk) (2.1.1)\n",
      "Requirement already satisfied: docstring-parser<1 in c:\\users\\zosia\\appdata\\local\\anaconda3\\envs\\carenet-ai-env\\lib\\site-packages (from google-cloud-aiplatform>=1.87.0->google-adk) (0.16)\n",
      "Requirement already satisfied: grpcio<2.0.0,>=1.33.2 in c:\\users\\zosia\\appdata\\local\\anaconda3\\envs\\carenet-ai-env\\lib\\site-packages (from google-api-core[grpc]!=2.0.*,!=2.1.*,!=2.2.*,!=2.3.*,!=2.4.*,!=2.5.*,!=2.6.*,!=2.7.*,<3.0.0,>=1.34.1->google-cloud-aiplatform>=1.87.0->google-adk) (1.71.0)\n",
      "Requirement already satisfied: grpcio-status<2.0.0,>=1.33.2 in c:\\users\\zosia\\appdata\\local\\anaconda3\\envs\\carenet-ai-env\\lib\\site-packages (from google-api-core[grpc]!=2.0.*,!=2.1.*,!=2.2.*,!=2.3.*,!=2.4.*,!=2.5.*,!=2.6.*,!=2.7.*,<3.0.0,>=1.34.1->google-cloud-aiplatform>=1.87.0->google-adk) (1.71.0)\n",
      "Requirement already satisfied: python-dateutil<3.0.0,>=2.8.2 in c:\\users\\zosia\\appdata\\local\\anaconda3\\envs\\carenet-ai-env\\lib\\site-packages (from google-cloud-bigquery!=3.20.0,<4.0.0,>=1.15.0->google-cloud-aiplatform>=1.87.0->google-adk) (2.9.0.post0)\n",
      "Requirement already satisfied: grpc-google-iam-v1<1.0.0,>=0.14.0 in c:\\users\\zosia\\appdata\\local\\anaconda3\\envs\\carenet-ai-env\\lib\\site-packages (from google-cloud-resource-manager<3.0.0,>=1.3.3->google-cloud-aiplatform>=1.87.0->google-adk) (0.14.2)\n",
      "Requirement already satisfied: httpx<1.0.0,>=0.28.1 in c:\\users\\zosia\\appdata\\local\\anaconda3\\envs\\carenet-ai-env\\lib\\site-packages (from google-genai>=1.14.0->google-adk) (0.28.1)\n",
      "Requirement already satisfied: websockets<15.1.0,>=13.0.0 in c:\\users\\zosia\\appdata\\local\\anaconda3\\envs\\carenet-ai-env\\lib\\site-packages (from google-genai>=1.14.0->google-adk) (15.0.1)\n",
      "Requirement already satisfied: httpcore==1.* in c:\\users\\zosia\\appdata\\local\\anaconda3\\envs\\carenet-ai-env\\lib\\site-packages (from httpx<1.0.0,>=0.28.1->google-genai>=1.14.0->google-adk) (1.0.9)\n",
      "Requirement already satisfied: h11>=0.16 in c:\\users\\zosia\\appdata\\local\\anaconda3\\envs\\carenet-ai-env\\lib\\site-packages (from httpcore==1.*->httpx<1.0.0,>=0.28.1->google-genai>=1.14.0->google-adk) (0.16.0)\n",
      "Requirement already satisfied: six>=1.5 in c:\\users\\zosia\\appdata\\local\\anaconda3\\envs\\carenet-ai-env\\lib\\site-packages (from python-dateutil<3.0.0,>=2.8.2->google-cloud-bigquery!=3.20.0,<4.0.0,>=1.15.0->google-cloud-aiplatform>=1.87.0->google-adk) (1.17.0)\n",
      "Requirement already satisfied: numpy>=1.21 in c:\\users\\zosia\\appdata\\local\\anaconda3\\envs\\carenet-ai-env\\lib\\site-packages (from shapely<3.0.0->google-cloud-aiplatform>=1.87.0->google-adk) (2.2.6)\n",
      "Requirement already satisfied: httpx-sse>=0.4 in c:\\users\\zosia\\appdata\\local\\anaconda3\\envs\\carenet-ai-env\\lib\\site-packages (from mcp>=1.5.0->google-adk) (0.4.0)\n",
      "Requirement already satisfied: pydantic-settings>=2.5.2 in c:\\users\\zosia\\appdata\\local\\anaconda3\\envs\\carenet-ai-env\\lib\\site-packages (from mcp>=1.5.0->google-adk) (2.9.1)\n",
      "Requirement already satisfied: python-multipart>=0.0.9 in c:\\users\\zosia\\appdata\\local\\anaconda3\\envs\\carenet-ai-env\\lib\\site-packages (from mcp>=1.5.0->google-adk) (0.0.20)\n",
      "Requirement already satisfied: sse-starlette>=1.6.1 in c:\\users\\zosia\\appdata\\local\\anaconda3\\envs\\carenet-ai-env\\lib\\site-packages (from mcp>=1.5.0->google-adk) (2.3.5)\n",
      "Requirement already satisfied: deprecated>=1.2.6 in c:\\users\\zosia\\appdata\\local\\anaconda3\\envs\\carenet-ai-env\\lib\\site-packages (from opentelemetry-api>=1.31.0->google-adk) (1.2.18)\n",
      "Requirement already satisfied: importlib-metadata<8.7.0,>=6.0 in c:\\users\\zosia\\appdata\\local\\anaconda3\\envs\\carenet-ai-env\\lib\\site-packages (from opentelemetry-api>=1.31.0->google-adk) (8.6.1)\n",
      "Requirement already satisfied: zipp>=3.20 in c:\\users\\zosia\\appdata\\local\\anaconda3\\envs\\carenet-ai-env\\lib\\site-packages (from importlib-metadata<8.7.0,>=6.0->opentelemetry-api>=1.31.0->google-adk) (3.22.0)\n",
      "Requirement already satisfied: wrapt<2,>=1.10 in c:\\users\\zosia\\appdata\\local\\anaconda3\\envs\\carenet-ai-env\\lib\\site-packages (from deprecated>=1.2.6->opentelemetry-api>=1.31.0->google-adk) (1.17.2)\n",
      "Requirement already satisfied: google-cloud-trace~=1.1 in c:\\users\\zosia\\appdata\\local\\anaconda3\\envs\\carenet-ai-env\\lib\\site-packages (from opentelemetry-exporter-gcp-trace>=1.9.0->google-adk) (1.16.1)\n",
      "Requirement already satisfied: opentelemetry-resourcedetector-gcp==1.*,>=1.5.0dev0 in c:\\users\\zosia\\appdata\\local\\anaconda3\\envs\\carenet-ai-env\\lib\\site-packages (from opentelemetry-exporter-gcp-trace>=1.9.0->google-adk) (1.9.0a0)\n",
      "Requirement already satisfied: opentelemetry-semantic-conventions==0.54b1 in c:\\users\\zosia\\appdata\\local\\anaconda3\\envs\\carenet-ai-env\\lib\\site-packages (from opentelemetry-sdk>=1.31.0->google-adk) (0.54b1)\n",
      "Requirement already satisfied: greenlet>=1 in c:\\users\\zosia\\appdata\\local\\anaconda3\\envs\\carenet-ai-env\\lib\\site-packages (from sqlalchemy>=2.0->google-adk) (3.2.2)\n",
      "Requirement already satisfied: tzdata in c:\\users\\zosia\\appdata\\local\\anaconda3\\envs\\carenet-ai-env\\lib\\site-packages (from tzlocal>=5.3->google-adk) (2025.2)\n",
      "Requirement already satisfied: cffi>=1.14 in c:\\users\\zosia\\appdata\\local\\anaconda3\\envs\\carenet-ai-env\\lib\\site-packages (from cryptography->authlib>=1.5.1->google-adk) (1.17.1)\n",
      "Requirement already satisfied: pycparser in c:\\users\\zosia\\appdata\\local\\anaconda3\\envs\\carenet-ai-env\\lib\\site-packages (from cffi>=1.14->cryptography->authlib>=1.5.1->google-adk) (2.22)\n",
      "Note: you may need to restart the kernel to use updated packages.\n"
     ]
    }
   ],
   "source": [
    "pip install google-adk"
   ]
  },
  {
   "cell_type": "code",
   "execution_count": 7,
   "id": "f44a23dc",
   "metadata": {},
   "outputs": [
    {
     "name": "stderr",
     "output_type": "stream",
     "text": [
      "ERROR: Could not find a version that satisfies the requirement adk-sdk[cli] (from versions: none)\n",
      "ERROR: No matching distribution found for adk-sdk[cli]\n"
     ]
    }
   ],
   "source": [
    "!pip install \"adk-sdk[cli]\"\n",
    "\n"
   ]
  }
 ],
 "metadata": {
  "kernelspec": {
   "display_name": "carenet-ai-env",
   "language": "python",
   "name": "python3"
  },
  "language_info": {
   "codemirror_mode": {
    "name": "ipython",
    "version": 3
   },
   "file_extension": ".py",
   "mimetype": "text/x-python",
   "name": "python",
   "nbconvert_exporter": "python",
   "pygments_lexer": "ipython3",
   "version": "3.11.11"
  }
 },
 "nbformat": 4,
 "nbformat_minor": 5
}
